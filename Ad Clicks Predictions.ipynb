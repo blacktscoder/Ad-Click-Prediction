{
 "cells": [
  {
   "cell_type": "markdown",
   "id": "2959dad5",
   "metadata": {},
   "source": [
    "# Ad Click Prediction on Internet Accessing Users\n",
    "\n",
    "Here I predict whether or not a user will click on an ad, based on his/her features. As this is a binary classification problem, a logistic regression model is well suited here."
   ]
  },
  {
   "cell_type": "markdown",
   "id": "80c7ced2",
   "metadata": {},
   "source": [
    "Import Dependencies"
   ]
  },
  {
   "cell_type": "code",
   "execution_count": null,
   "id": "903843a2",
   "metadata": {},
   "outputs": [],
   "source": [
    "import pandas as pd \n",
    "import numpy as np\n",
    "import seaborn as sns \n",
    "import matplotlib.pyplot as plt\n",
    "%matplotlib inline"
   ]
  },
  {
   "cell_type": "markdown",
   "id": "84e46db4",
   "metadata": {},
   "source": [
    "import Data"
   ]
  },
  {
   "cell_type": "code",
   "execution_count": null,
   "id": "01276cb1",
   "metadata": {},
   "outputs": [],
   "source": [
    "ad_data = pd.read_csv('advertising.csv')"
   ]
  },
  {
   "cell_type": "code",
   "execution_count": null,
   "id": "3252a985",
   "metadata": {},
   "outputs": [],
   "source": [
    "ad_data.head()"
   ]
  },
  {
   "cell_type": "code",
   "execution_count": null,
   "id": "5e66d8f2",
   "metadata": {},
   "outputs": [],
   "source": [
    "ad_data.info()"
   ]
  },
  {
   "cell_type": "code",
   "execution_count": null,
   "id": "1b0b02a3",
   "metadata": {},
   "outputs": [],
   "source": [
    "ad_data.isnull().sum"
   ]
  },
  {
   "cell_type": "code",
   "execution_count": null,
   "id": "b61b4d44",
   "metadata": {},
   "outputs": [],
   "source": [
    "ad_data.describe()"
   ]
  },
  {
   "cell_type": "markdown",
   "id": "bed399f4",
   "metadata": {},
   "source": [
    "Exploratory Data Analysis"
   ]
  },
  {
   "cell_type": "code",
   "execution_count": null,
   "id": "28a97e79",
   "metadata": {},
   "outputs": [],
   "source": [
    "plt.hist(ad_data['Age'], bins=30)\n",
    "plt"
   ]
  },
  {
   "cell_type": "markdown",
   "id": "30b234b1",
   "metadata": {},
   "source": [
    "Checking out the relationship between the age and daily time spent on the site"
   ]
  },
  {
   "cell_type": "code",
   "execution_count": null,
   "id": "54f9648b",
   "metadata": {},
   "outputs": [],
   "source": [
    "sns.jointplot('Age', 'Daily Time Spent on Site',ad_data)"
   ]
  },
  {
   "cell_type": "markdown",
   "id": "76309c7b",
   "metadata": {},
   "source": [
    "Relationship between the daily time spend on the site and the internet usage"
   ]
  },
  {
   "cell_type": "code",
   "execution_count": null,
   "id": "216e886a",
   "metadata": {},
   "outputs": [],
   "source": [
    "sns.jointplot('Daily Time Spent on Site', 'Daily Internet Usage',ad_data)"
   ]
  },
  {
   "cell_type": "code",
   "execution_count": null,
   "id": "f4fb8e5a",
   "metadata": {},
   "outputs": [],
   "source": [
    "sns.pairplot(ad_data, hue='Clicked on Ad')"
   ]
  },
  {
   "cell_type": "markdown",
   "id": "2591637d",
   "metadata": {},
   "source": [
    "Model Planning and Building"
   ]
  },
  {
   "cell_type": "code",
   "execution_count": null,
   "id": "f385b938",
   "metadata": {},
   "outputs": [],
   "source": [
    "ad_data.columns"
   ]
  },
  {
   "cell_type": "code",
   "execution_count": null,
   "id": "d2ca80c5",
   "metadata": {},
   "outputs": [],
   "source": [
    "countries = pd.get_dummies(ad_data['Country'],drop_first=True)"
   ]
  },
  {
   "cell_type": "code",
   "execution_count": null,
   "id": "149bc871",
   "metadata": {},
   "outputs": [],
   "source": [
    "ad_data = pd.concat([ad_data,countries], axis=1)"
   ]
  },
  {
   "cell_type": "code",
   "execution_count": null,
   "id": "d0675b65",
   "metadata": {},
   "outputs": [],
   "source": [
    "ad_data.drop(['Country','Ad Topic Line','City','Timestamp'],axis=1,inplace=True)"
   ]
  },
  {
   "cell_type": "code",
   "execution_count": null,
   "id": "920e61e5",
   "metadata": {},
   "outputs": [],
   "source": [
    "X=ad_data.drop('Clicked on Ad',axis=1)\n",
    "Y=ad_data['Clicked on Ad']"
   ]
  },
  {
   "cell_type": "markdown",
   "id": "67941395",
   "metadata": {},
   "source": [
    "Data splitting for test and training "
   ]
  },
  {
   "cell_type": "code",
   "execution_count": null,
   "id": "118bbbd7",
   "metadata": {},
   "outputs": [],
   "source": [
    "from sklearn.model_selection import train_test_split"
   ]
  },
  {
   "cell_type": "code",
   "execution_count": null,
   "id": "872b4c48",
   "metadata": {},
   "outputs": [],
   "source": [
    "X_train, X_test, Y_train, Y_test = train_test_split(X, Y, test_size=0.3, random_state=101)"
   ]
  },
  {
   "cell_type": "markdown",
   "id": "cabf661a",
   "metadata": {},
   "source": [
    "Model Training"
   ]
  },
  {
   "cell_type": "code",
   "execution_count": null,
   "id": "b7e1710e",
   "metadata": {},
   "outputs": [],
   "source": [
    "from sklearn.linear_model import LogisticRegression"
   ]
  },
  {
   "cell_type": "code",
   "execution_count": null,
   "id": "10616e5a",
   "metadata": {},
   "outputs": [],
   "source": [
    "logrec = LogisticRegression()"
   ]
  },
  {
   "cell_type": "code",
   "execution_count": null,
   "id": "faaf3723",
   "metadata": {},
   "outputs": [],
   "source": [
    "logrec.fit(X, Y)"
   ]
  },
  {
   "cell_type": "markdown",
   "id": "06b0a524",
   "metadata": {},
   "source": [
    "Predictions"
   ]
  },
  {
   "cell_type": "code",
   "execution_count": null,
   "id": "2929fc93",
   "metadata": {},
   "outputs": [],
   "source": [
    "pred = logrec.predict(X_test)"
   ]
  },
  {
   "cell_type": "markdown",
   "id": "bb172408",
   "metadata": {},
   "source": [
    "Evaluations"
   ]
  },
  {
   "cell_type": "code",
   "execution_count": null,
   "id": "a2bfb44d",
   "metadata": {},
   "outputs": [],
   "source": [
    "from sklearn.metrics import classification_report\n",
    "print(classification_report(Y_test,pred))"
   ]
  }
 ],
 "metadata": {
  "kernelspec": {
   "display_name": "Python 3",
   "language": "python",
   "name": "python3"
  },
  "language_info": {
   "codemirror_mode": {
    "name": "ipython",
    "version": 3
   },
   "file_extension": ".py",
   "mimetype": "text/x-python",
   "name": "python",
   "nbconvert_exporter": "python",
   "pygments_lexer": "ipython3",
   "version": "3.8.8"
  }
 },
 "nbformat": 4,
 "nbformat_minor": 5
}
